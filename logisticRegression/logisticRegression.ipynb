{
 "cells": [
  {
   "cell_type": "code",
   "execution_count": 1,
   "id": "7bc443b9-b58b-4fd5-9aeb-5ab0f97e7fc6",
   "metadata": {},
   "outputs": [],
   "source": [
    "import numpy as np\n",
    "import matplotlib.pyplot as plt\n",
    "import pandas as pd\n",
    "from scipy import optimize\n",
    "from logRegFuncs import *"
   ]
  },
  {
   "cell_type": "code",
   "execution_count": 3,
   "id": "6a9027df-bffa-41a1-aeb0-a0a16f2c7388",
   "metadata": {},
   "outputs": [],
   "source": [
    "\"\"\"Reading & Sorting Data\"\"\"\n",
    "data = pd.read_csv(\"../data/train.csv\")\n",
    "\n",
    "y = data.Survived.to_numpy()\n",
    "data = data.drop(\"Survived\", axis=1)\n",
    "data = data.drop(\"PassengerId\", axis = 1)\n",
    "\n",
    "X = data.to_numpy()\n",
    "m,n = np.shape(X)\n",
    "X = np.c_[np.ones(m), X]"
   ]
  },
  {
   "cell_type": "code",
   "execution_count": 4,
   "id": "c17d2049-0391-49eb-a20f-662a2d50609b",
   "metadata": {},
   "outputs": [],
   "source": [
    "\"\"\"Initialising Parameter Search\"\"\"\n",
    "theta = trainModel(X, y)"
   ]
  },
  {
   "cell_type": "code",
   "execution_count": 6,
   "id": "407d6f96-de55-4d3b-a969-ec3c642235a8",
   "metadata": {},
   "outputs": [
    {
     "name": "stdout",
     "output_type": "stream",
     "text": [
      "Basic model accuracy =  0.8026905829596412\n"
     ]
    }
   ],
   "source": [
    "\"\"\"Reading & Sorting CV Data\"\"\"\n",
    "data = pd.read_csv(\"../data/CV.csv\")\n",
    "\n",
    "y_CV = data.Survived.to_numpy()\n",
    "data = data.drop(\"Survived\", axis=1)\n",
    "data = data.drop(\"PassengerId\", axis = 1)\n",
    "\n",
    "X_CV = data.to_numpy()\n",
    "m,n = np.shape(X_CV)\n",
    "X_CV = np.c_[np.ones(m), X_CV]\n",
    "\n",
    "p = predict(theta, X_CV)\n",
    "print(\"Basic model accuracy = \", np.mean(p == y_CV))"
   ]
  },
  {
   "cell_type": "code",
   "execution_count": 7,
   "id": "beb3991f-b101-4d1f-8f2e-6a0f9b23c5a1",
   "metadata": {},
   "outputs": [
    {
     "data": {
      "image/png": "[encoded data removed]",
      "text/plain": [
       "<Figure size 432x288 with 1 Axes>"
      ]
     },
     "metadata": {
      "needs_background": "light"
     },
     "output_type": "display_data"
    },
    {
     "name": "stdout",
     "output_type": "stream",
     "text": [
      "       Lambda  Train Error  CV Error\n",
      "0      0.0003     0.424820  1.617632\n",
      "1      0.0010     0.424820  1.617643\n",
      "2      0.0030     0.424820  1.617596\n",
      "3      0.0100     0.424821  1.615493\n",
      "4      0.0300     0.424828  1.616873\n",
      "5      0.1000     0.424896  1.614342\n",
      "6      0.3000     0.425319  1.601554\n",
      "7      1.0000     0.427622  1.547358\n",
      "8      3.0000     0.434297  1.389692\n",
      "9     10.0000     0.452274  1.084417\n",
      "10    30.0000     0.485491  0.783567\n",
      "11   100.0000     0.540637  0.582791\n",
      "12   300.0000     0.585840  0.566822\n",
      "13  1000.0000     0.612111  0.608488\n"
     ]
    }
   ],
   "source": [
    "\"\"\"Plotting CV Error Against Range of Lambdas to Optimise\"\"\"\n",
    "lambdas = np.array([0.0003, 0.001, 0.003, 0.01, 0.03, 0.1, 0.3, 1, 3, 10, 30, 100, 300, 1000])\n",
    "\n",
    "error_train, error_CV = validationCurve(X, y, X_CV, y_CV, lambdas)\n",
    "\n",
    "lambda_errors = pd.DataFrame()\n",
    "lambda_errors[\"Lambda\"] = lambdas\n",
    "lambda_errors[\"Train Error\"] = error_train\n",
    "lambda_errors[\"CV Error\"] = error_CV\n",
    "\n",
    "plt.loglog(lambdas, error_train, label = \"Train\"); plt.loglog(lambdas, error_CV, label = \"CV\"); plt.legend(); plt.xlabel(\"Lambdas\"); plt.ylabel(\"Errors\"); plt.title(\"Validation Curve\"); plt.show()\n",
    "print(lambda_errors)"
   ]
  },
  {
   "cell_type": "code",
   "execution_count": 15,
   "id": "0deab65e-999c-4a4b-a447-1f3509793358",
   "metadata": {},
   "outputs": [
    {
     "name": "stdout",
     "output_type": "stream",
     "text": [
      "Optimised model on CV accuracy =  0.8071748878923767\n",
      "Optimised theta values =  [ 3.05150421 -0.77414611 -1.88318387 -0.02421089 -0.18031988 -0.0525808\n",
      "  0.00383059  0.11417262  0.1657316  -0.10161977  0.17005717  0.26071281\n",
      "  0.24957623  0.14301264  0.          0.0292908   0.        ]\n"
     ]
    }
   ],
   "source": [
    "\"\"\"Using Optimal Lambda To Output Thetas\"\"\"\n",
    "np.random.seed()\n",
    "\n",
    "lambda_optimal = 10\n",
    "theta = trainModel(X, y, lambda_ = lambda_optimal)\n",
    "\n",
    "p = predict(theta, X_CV)\n",
    "print(\"Optimised model on CV accuracy = \",np.mean(p == y_CV))\n",
    "print(\"Optimised theta values = \", theta)\n"
   ]
  },
  {
   "cell_type": "code",
   "execution_count": 17,
   "id": "513b86eb-45c5-4547-8901-656299dbe9a3",
   "metadata": {},
   "outputs": [
    {
     "name": "stderr",
     "output_type": "stream",
     "text": [
      "C:\\Users\\cdiver\\Documents\\GitHub\\kaggle-titanic\\logisticRegression\\logRegFuncs.py:18: RuntimeWarning: divide by zero encountered in log\n",
      "  J = (1 / m) * np.sum(-y @ np.log(h) - (1 - y) @ np.log(1 - h))\n",
      "C:\\Users\\cdiver\\Documents\\GitHub\\kaggle-titanic\\logisticRegression\\logRegFuncs.py:18: RuntimeWarning: invalid value encountered in matmul\n",
      "  J = (1 / m) * np.sum(-y @ np.log(h) - (1 - y) @ np.log(1 - h))\n"
     ]
    },
    {
     "name": "stdout",
     "output_type": "stream",
     "text": [
      "     Data Quantity  Train Error   CV Error\n",
      "0                1     3.941097  13.093720\n",
      "1                2     6.090813        NaN\n",
      "2                3   474.837530        NaN\n",
      "3                4   380.302835        NaN\n",
      "4                5   575.269539        NaN\n",
      "..             ...          ...        ...\n",
      "663            664     0.603093   2.118272\n",
      "664            665     0.603724   2.129752\n",
      "665            666     0.602980   2.132316\n",
      "666            667     0.604205   2.150562\n",
      "667            668     0.603613   2.153244\n",
      "\n",
      "[668 rows x 3 columns]\n"
     ]
    },
    {
     "data": {
      "image/png": "[encoded data removed]",
      "text/plain": [
       "<Figure size 432x288 with 1 Axes>"
      ]
     },
     "metadata": {
      "needs_background": "light"
     },
     "output_type": "display_data"
    }
   ],
   "source": [
    "\"\"\"Generating CV & Train Learning Curves\"\"\"\n",
    "error_train, error_CV = learningCurve(X, y, X_CV, y_CV, lambda_ = lambda_optimal)\n",
    "num_data = np.arange(1, y.size+1)\n",
    "\n",
    "learning_curve = pd.DataFrame()\n",
    "learning_curve[\"Data Quantity\"] = num_data\n",
    "learning_curve[\"Train Error\"] = error_train\n",
    "learning_curve[\"CV Error\"] = error_CV\n",
    "\n",
    "print(learning_curve)\n",
    "plt.plot(num_data, error_train, label=\"Train\"); plt.plot(num_data, error_CV, label = \"CV\"); plt.legend(); plt.xlabel(\"Num of Data\"); plt.ylabel(\"Error\"); plt.title(\"Learning Curve\"); plt.show()"
   ]
  },
  {
   "cell_type": "code",
   "execution_count": 20,
   "id": "9b6d1297-a0ab-404d-880a-95b9710bfc4a",
   "metadata": {},
   "outputs": [],
   "source": [
    "\"\"\"Generating Test Results\"\"\"\n",
    "test = pd.read_csv('../data/test.csv')\n",
    "passengerId = test.PassengerId\n",
    "test = test.drop(\"PassengerId\", axis=1)\n",
    "\n",
    "X_test = test.to_numpy()\n",
    "m,n = np.shape(X_test)\n",
    "X_test = np.c_[np.ones(m), X_test]\n",
    "\n",
    "y_predicted = predict(theta, X_test)\n",
    "\n",
    "solution = pd.DataFrame()\n",
    "solution[\"PassengerId\"] = passengerId\n",
    "solution[\"Survived\"] = y_predicted\n",
    "solution.Survived = solution.Survived.astype(int)\n",
    "solution.to_csv(\"../logisticRegression/solution.csv\", sep=\",\", index=False)\n"
   ]
  },
  {
   "cell_type": "code",
   "execution_count": null,
   "id": "8da4be7e-a3a9-4533-93b6-cb003a028feb",
   "metadata": {},
   "outputs": [],
   "source": []
  }
 ],
 "metadata": {
  "kernelspec": {
   "display_name": "Python 3 (ipykernel)",
   "language": "python",
   "name": "python3"
  },
  "language_info": {
   "codemirror_mode": {
    "name": "ipython",
    "version": 3
   },
   "file_extension": ".py",
   "mimetype": "text/x-python",
   "name": "python",
   "nbconvert_exporter": "python",
   "pygments_lexer": "ipython3",
   "version": "3.9.0"
  }
 },
 "nbformat": 4,
 "nbformat_minor": 5
}
